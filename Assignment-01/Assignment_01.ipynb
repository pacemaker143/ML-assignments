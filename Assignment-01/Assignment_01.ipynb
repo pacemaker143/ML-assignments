{
  "nbformat": 4,
  "nbformat_minor": 0,
  "metadata": {
    "colab": {
      "provenance": []
    },
    "kernelspec": {
      "name": "python3",
      "display_name": "Python 3"
    },
    "language_info": {
      "name": "python"
    }
  },
  "cells": [
    {
      "cell_type": "code",
      "execution_count": 1,
      "metadata": {
        "id": "xwidy-z0Kw5p"
      },
      "outputs": [],
      "source": [
        "import pandas as pd\n",
        "import numpy as np"
      ]
    },
    {
      "cell_type": "code",
      "source": [
        "data = {\n",
        "    \"Name\": [\"Tanmay\", \"Akshay\", \"Aditya\", \"Sujit\", \"Om\"],\n",
        "    \"Age\": [25, 30, np.nan, 35, 40],\n",
        "    \"Salary\": [50000, 0, 60000, 0, 70000],\n",
        "    \"Department\": [\"HR\", \"Finance\", \"IT\", \"Marketing\", None],\n",
        "}"
      ],
      "metadata": {
        "id": "yxxresnaLDWQ"
      },
      "execution_count": 2,
      "outputs": []
    },
    {
      "cell_type": "code",
      "source": [
        "df = pd.DataFrame(data)\n",
        "df.to_csv(\"example.csv\", index=False)\n",
        "df.to_excel(\"example.xlsx\", index=False)\n"
      ],
      "metadata": {
        "id": "bqvVvvodLj89"
      },
      "execution_count": 5,
      "outputs": []
    },
    {
      "cell_type": "code",
      "source": [
        "df_csv = pd.read_csv(\"example.csv\")\n",
        "df_xlsx = pd.read_excel(\"example.xlsx\")\n"
      ],
      "metadata": {
        "id": "EJOwURxTLl4Y"
      },
      "execution_count": 6,
      "outputs": []
    },
    {
      "cell_type": "code",
      "source": [
        "print(\"Shape of CSV Data:\", df_csv.shape)\n",
        "print(\"Shape of XLSX Data:\", df_xlsx.shape)\n"
      ],
      "metadata": {
        "colab": {
          "base_uri": "https://localhost:8080/"
        },
        "id": "4jriSy_PLmqt",
        "outputId": "c70c7f4a-e6b9-4be1-d466-8656b1486229"
      },
      "execution_count": 7,
      "outputs": [
        {
          "output_type": "stream",
          "name": "stdout",
          "text": [
            "Shape of CSV Data: (5, 4)\n",
            "Shape of XLSX Data: (5, 4)\n"
          ]
        }
      ]
    },
    {
      "cell_type": "code",
      "source": [
        "print(\"\\nMissing Values:\\n\", df_csv.isnull().sum())\n"
      ],
      "metadata": {
        "colab": {
          "base_uri": "https://localhost:8080/"
        },
        "id": "Lj_Lvs3wLqme",
        "outputId": "238a3283-f4f1-4347-e3d8-a5ece10c7751"
      },
      "execution_count": 8,
      "outputs": [
        {
          "output_type": "stream",
          "name": "stdout",
          "text": [
            "\n",
            "Missing Values:\n",
            " Name          0\n",
            "Age           1\n",
            "Salary        0\n",
            "Department    1\n",
            "dtype: int64\n"
          ]
        }
      ]
    },
    {
      "cell_type": "code",
      "source": [
        "print(\"\\nData Types:\\n\", df_csv.dtypes)"
      ],
      "metadata": {
        "colab": {
          "base_uri": "https://localhost:8080/"
        },
        "id": "EArQIrcRLpcS",
        "outputId": "65cb7e37-b8d9-48b5-bbf5-9f542f370aae"
      },
      "execution_count": 9,
      "outputs": [
        {
          "output_type": "stream",
          "name": "stdout",
          "text": [
            "\n",
            "Data Types:\n",
            " Name           object\n",
            "Age           float64\n",
            "Salary          int64\n",
            "Department     object\n",
            "dtype: object\n"
          ]
        }
      ]
    },
    {
      "cell_type": "code",
      "source": [
        "print(\"\\nCount of Zeros in each column:\\n\", (df_csv == 0).sum())\n"
      ],
      "metadata": {
        "colab": {
          "base_uri": "https://localhost:8080/"
        },
        "id": "I6jijcefLyGT",
        "outputId": "e0e3291d-5d5f-4509-b1db-59dde5322b86"
      },
      "execution_count": 10,
      "outputs": [
        {
          "output_type": "stream",
          "name": "stdout",
          "text": [
            "\n",
            "Count of Zeros in each column:\n",
            " Name          0\n",
            "Age           0\n",
            "Salary        2\n",
            "Department    0\n",
            "dtype: int64\n"
          ]
        }
      ]
    },
    {
      "cell_type": "code",
      "source": [
        "selected_data = df_csv.loc[1:3, [\"Name\", \"Age\"]]\n",
        "print(\"\\nSelected Data:\\n\", selected_data)\n"
      ],
      "metadata": {
        "colab": {
          "base_uri": "https://localhost:8080/"
        },
        "id": "_Hj-1fIDLx7v",
        "outputId": "9c59d833-4a30-4e5f-9224-2f65e103057b"
      },
      "execution_count": 11,
      "outputs": [
        {
          "output_type": "stream",
          "name": "stdout",
          "text": [
            "\n",
            "Selected Data:\n",
            "      Name   Age\n",
            "1  Akshay  30.0\n",
            "2  Aditya   NaN\n",
            "3   Sujit  35.0\n"
          ]
        }
      ]
    },
    {
      "cell_type": "code",
      "source": [
        "sorted_data = df_csv.sort_values(by=\"Age\", ascending=True)\n",
        "print(\"\\nSorted Data by Age:\\n\", sorted_data)\n"
      ],
      "metadata": {
        "colab": {
          "base_uri": "https://localhost:8080/"
        },
        "id": "1wRqSj3QL8ih",
        "outputId": "c5d8a711-abac-4b01-9389-883b028b7680"
      },
      "execution_count": 12,
      "outputs": [
        {
          "output_type": "stream",
          "name": "stdout",
          "text": [
            "\n",
            "Sorted Data by Age:\n",
            "      Name   Age  Salary Department\n",
            "0  Tanmay  25.0   50000         HR\n",
            "1  Akshay  30.0       0    Finance\n",
            "3   Sujit  35.0       0  Marketing\n",
            "4      Om  40.0   70000        NaN\n",
            "2  Aditya   NaN   60000         IT\n"
          ]
        }
      ]
    },
    {
      "cell_type": "code",
      "source": [
        "print(\"\\nDescriptive Statistics:\\n\", df_csv.describe())\n"
      ],
      "metadata": {
        "colab": {
          "base_uri": "https://localhost:8080/"
        },
        "id": "yhcl5jg-L8W0",
        "outputId": "8c0bade9-dc57-4943-e303-0d659b625d43"
      },
      "execution_count": 13,
      "outputs": [
        {
          "output_type": "stream",
          "name": "stdout",
          "text": [
            "\n",
            "Descriptive Statistics:\n",
            "              Age        Salary\n",
            "count   4.000000      5.000000\n",
            "mean   32.500000  36000.000000\n",
            "std     6.454972  33615.472628\n",
            "min    25.000000      0.000000\n",
            "25%    28.750000      0.000000\n",
            "50%    32.500000  50000.000000\n",
            "75%    36.250000  60000.000000\n",
            "max    40.000000  70000.000000\n"
          ]
        }
      ]
    },
    {
      "cell_type": "code",
      "source": [
        "print(\"\\nUnique Values per Column:\\n\", df_csv.nunique())\n",
        "print(\"\\nFormat of 'Age':\", df_csv[\"Age\"].dtype)\n"
      ],
      "metadata": {
        "colab": {
          "base_uri": "https://localhost:8080/"
        },
        "id": "2pa2-VI9MGKB",
        "outputId": "43c9f5b1-b27e-4cdc-b1b2-7fbe6a4f589e"
      },
      "execution_count": 14,
      "outputs": [
        {
          "output_type": "stream",
          "name": "stdout",
          "text": [
            "\n",
            "Unique Values per Column:\n",
            " Name          5\n",
            "Age           4\n",
            "Salary        4\n",
            "Department    4\n",
            "dtype: int64\n",
            "\n",
            "Format of 'Age': float64\n"
          ]
        }
      ]
    },
    {
      "cell_type": "code",
      "source": [
        "df_csv[\"Age\"] = df_csv[\"Age\"].fillna(0).astype(int)\n",
        "print(\"\\nUpdated Age Column Data Types:\\n\", df_csv.dtypes)"
      ],
      "metadata": {
        "colab": {
          "base_uri": "https://localhost:8080/"
        },
        "id": "88vDVm72MDSi",
        "outputId": "574226f7-2e23-42f1-adf0-ed00c1e87548"
      },
      "execution_count": 15,
      "outputs": [
        {
          "output_type": "stream",
          "name": "stdout",
          "text": [
            "\n",
            "Updated Age Column Data Types:\n",
            " Name          object\n",
            "Age            int64\n",
            "Salary         int64\n",
            "Department    object\n",
            "dtype: object\n"
          ]
        }
      ]
    }
  ]
}